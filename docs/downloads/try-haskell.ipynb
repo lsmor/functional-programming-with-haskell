{
 "cells": [
  {
   "cell_type": "markdown",
   "metadata": {},
   "source": [
    "# This is a header"
   ],
   "id": "e1ad087a-4d1b-4905-844d-7b6264ce4bd6"
  },
  {
   "cell_type": "code",
   "execution_count": null,
   "metadata": {},
   "outputs": [],
   "source": [
    "haskell :: Int\n",
    "haskell = 42"
   ],
   "id": "e0663f2d-3328-4626-bab8-d3d504b8c163"
  },
  {
   "cell_type": "markdown",
   "metadata": {},
   "source": [
    "This is a list\n",
    "\n",
    "-   object 1\n",
    "-   object 2\n",
    "\n",
    "This is a `some` markdown *syntax*\n",
    "\n",
    "## Headers do not work"
   ],
   "id": "32859ef8-1784-4de4-8fe9-89227ab0d1a0"
  },
  {
   "cell_type": "code",
   "execution_count": null,
   "metadata": {},
   "outputs": [],
   "source": [
    "some_func :: Int -> Int\n",
    "some_func = (+ 42)"
   ],
   "id": "0c59856c-df3e-4ac7-883a-e08c68152832"
  }
 ],
 "nbformat": 4,
 "nbformat_minor": 5,
 "metadata": {}
}
