{
 "cells": [
  {
   "cell_type": "markdown",
   "metadata": {},
   "source": [
    "# This is a header"
   ],
   "id": "6c2e6d17-700b-446f-b63c-15c5ecde4bbd"
  },
  {
   "cell_type": "code",
   "execution_count": null,
   "metadata": {},
   "outputs": [],
   "source": [
    "haskell :: Int\n",
    "haskell = 42"
   ],
   "id": "32e9503a-c474-405f-8dd5-0232fb7f5886"
  },
  {
   "cell_type": "markdown",
   "metadata": {},
   "source": [
    "This is a list\n",
    "\n",
    "-   object 1\n",
    "-   object 2\n",
    "\n",
    "This is a `some` markdown *syntax*\n",
    "\n",
    "## Headers do not work"
   ],
   "id": "7462fd66-25a3-4a1b-9b8b-3c9870372d2a"
  },
  {
   "cell_type": "code",
   "execution_count": null,
   "metadata": {},
   "outputs": [],
   "source": [
    "some_func :: Int -> Int\n",
    "some_func = (+ 42)"
   ],
   "id": "dd06d904-79ec-45e0-8332-5abcb4787d43"
  }
 ],
 "nbformat": 4,
 "nbformat_minor": 5,
 "metadata": {}
}
