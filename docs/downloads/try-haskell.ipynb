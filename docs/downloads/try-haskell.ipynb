{
 "cells": [
  {
   "cell_type": "markdown",
   "metadata": {},
   "source": [
    "# This is a header"
   ],
   "id": "73311b16-8d4e-401a-b9f3-712390ab1552"
  },
  {
   "cell_type": "code",
   "execution_count": null,
   "metadata": {},
   "outputs": [],
   "source": [
    "haskell :: Int\n",
    "haskell = 42"
   ],
   "id": "c5c5b605-16f4-4570-9b45-510085ef5d74"
  },
  {
   "cell_type": "markdown",
   "metadata": {},
   "source": [
    "This is a list\n",
    "\n",
    "-   object 1\n",
    "-   object 2\n",
    "\n",
    "This is a `some` markdown *syntax*\n",
    "\n",
    "## Headers do not work"
   ],
   "id": "337ee7dc-bcb8-4789-8581-56a061981410"
  },
  {
   "cell_type": "code",
   "execution_count": null,
   "metadata": {},
   "outputs": [],
   "source": [
    "some_func :: Int -> Int\n",
    "some_func = (+ 42)"
   ],
   "id": "d35cab4f-1c1b-4958-a8f3-793ed96f223f"
  }
 ],
 "nbformat": 4,
 "nbformat_minor": 5,
 "metadata": {}
}
