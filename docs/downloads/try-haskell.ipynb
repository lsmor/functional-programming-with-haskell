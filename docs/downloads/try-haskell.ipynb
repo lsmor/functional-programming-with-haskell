{
 "cells": [
  {
   "cell_type": "markdown",
   "metadata": {},
   "source": [
    "# This is a header"
   ],
   "id": "42a14256-91c8-446e-92a7-ab6bf11055d3"
  },
  {
   "cell_type": "code",
   "execution_count": null,
   "metadata": {},
   "outputs": [],
   "source": [
    "haskell :: Int\n",
    "haskell = 42"
   ],
   "id": "98ee7437-e11a-4c16-b642-9e7911f32cd2"
  },
  {
   "cell_type": "markdown",
   "metadata": {},
   "source": [
    "This is a list\n",
    "\n",
    "-   object 1\n",
    "-   object 2\n",
    "\n",
    "This is a `some` markdown *syntax*\n",
    "\n",
    "## Headers do not work"
   ],
   "id": "2df739f6-1afd-400b-845c-ad1efebc209f"
  },
  {
   "cell_type": "code",
   "execution_count": null,
   "metadata": {},
   "outputs": [],
   "source": [
    "some_func :: Int -> Int\n",
    "some_func = (+ 42)"
   ],
   "id": "622b77f5-76e7-46cb-a694-56007ed6adbe"
  }
 ],
 "nbformat": 4,
 "nbformat_minor": 5,
 "metadata": {}
}
