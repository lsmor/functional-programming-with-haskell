{
 "cells": [
  {
   "cell_type": "markdown",
   "metadata": {},
   "source": [
    "## Introduction\n",
    "\n",
    "-   This chapter introduces some functional programing concepts defining\n",
    "    functions which generate plots\n",
    "-   We will use [CodeWorld/Haskell](https://code.world/haskell#) for\n",
    "    this chapter\n",
    "-   CodeWorld is an interactive web for generating plots and animations\n",
    "    using Haskell code\n",
    "\n",
    "## Basic Plots\n",
    "\n",
    "First, let’s see the basic constructors CodeWorld provides\n",
    "\n",
    "### Plot a Circunference\n",
    "\n",
    "-   **Example**: a program which draws a circunference of radious 3\n",
    "\n",
    "![this is a footnote](attachment:./images/Circunference.png)\n",
    "\n",
    "-   Execute it in\n",
    "    [CodeWorld](https://code.world/haskell#PAdV_uyPgb0FAw4yK3Jjl8w)"
   ],
   "attachments": {
    "./images/Circunference.png": {
     "image/png": "[encoded data removed]"
    }
   }
  },
  {
   "cell_type": "code",
   "execution_count": null,
   "metadata": {},
   "outputs": [],
   "source": [
    "some :: Code"
   ]
  }
 ],
 "nbformat": 4,
 "nbformat_minor": 4,
 "metadata": {
  "kernelspec": {
   "name": "haskell",
   "display_name": "Haskell",
   "language": "haskell"
  },
  "language_info": {
   "name": "haskell",
   "codemirror_mode": "ihaskell",
   "file_extension": ".hs",
   "pygments_lexer": "Haskell",
   "version": "8.10.7"
  }
 }
}
