{
 "cells": [
  {
   "cell_type": "markdown",
   "metadata": {},
   "source": [
    "## Introduction\n",
    "\n",
    "-   This chapter introduces some functional programing concepts defining\n",
    "    functions which generate plots\n",
    "-   We will use [CodeWorld/Haskell](https://code.world/haskell#) for\n",
    "    this chapter\n",
    "-   CodeWorld is an interactive web for generating plots and animations\n",
    "    using Haskell code\n",
    "\n",
    "## Basic Plots\n",
    "\n",
    "First, let’s see the basic constructors CodeWorld provides\n",
    "\n",
    "### Plot a Circunference\n",
    "\n",
    "-   **Example**: a program which draws a circunference of radious 3\n",
    "\n",
    "![](attachment:./images/circunference.png)\n",
    "\n",
    "-   **Program**"
   ],
   "attachments": {
    "./images/circunference.png": {
     "image/png": "[encoded data removed]"
    }
   }
  },
  {
   "cell_type": "code",
   "execution_count": null,
   "metadata": {},
   "outputs": [],
   "source": [
    "import CodeWorld\n",
    "\n",
    "main :: IO ()\n",
    "main = drawingOf circunference\n",
    "\n",
    "circunference :: Picture\n",
    "circunference = circle 3"
   ]
  },
  {
   "cell_type": "markdown",
   "metadata": {},
   "source": [
    "-   **Execute** the code in\n",
    "    [CodeWorld](https://code.world/haskell#P5KKezecmTgz9bQQ6aGzYLg)\n",
    "\n",
    "-   **Comments**:\n",
    "\n",
    "    -   In Haskell, type annotations are written with double colon:\n",
    "        `<function name> :: <types>`\n",
    "\n",
    "    -   Type annotations are mostly optional, but are highly recomended,\n",
    "        as they provide usefull information about the program\n",
    "\n",
    "    -   In the code example `circunference` has type `Picture`, which is\n",
    "        the type provided by `CodeWorld` library for representing\n",
    "        pictures\n",
    "\n",
    "    -   the type of main is `IO ()` meaning that `main` is a function\n",
    "        which does input/output (hence `IO`) and doesn’t returns a value\n",
    "        (hence `()`)\n",
    "\n",
    "    -   As you can see, both `main` and `circunference` are built from\n",
    "        smaller parts called `circle` and `drawingOf`\n",
    "\n",
    "            circle :: Double -> Picture   -- circle is a function which takes a Double and produces a Picture\n",
    "            drawingOf :: Picture -> IO () -- drawingOf is a function which takes a Picture and produces an input/output action.\n",
    "\n",
    "### Plot a Solid Circle\n",
    "\n",
    "-   **Example**: A program which plots a circle of radious 3\n",
    "    ![](attachment:./images/solidcircle.png)\n",
    "\n",
    "-   **Program**:"
   ],
   "attachments": {
    "./images/solidcircle.png": {
     "image/png": "[encoded data removed]"
    }
   }
  },
  {
   "cell_type": "code",
   "execution_count": null,
   "metadata": {},
   "outputs": [],
   "source": [
    "import CodeWorld\n",
    "\n",
    "main :: IO ()\n",
    "main = drawingOf dot\n",
    "\n",
    "dot :: Picture\n",
    "dot = solidCircle 3"
   ]
  },
  {
   "cell_type": "markdown",
   "metadata": {},
   "source": [
    "-   **Execute** the code in\n",
    "    [CodeWorld](https://code.world/haskell#P3jImu_nMYR4NLwfiMEMpbA)\n",
    "\n",
    "-   **Comments**:\n",
    "\n",
    "    -   function `solidCircle :: Double -> Picture` takes a double (the\n",
    "        radious) and produces a Picture\n",
    "\n",
    "### Plot of the Coordinate Plane\n",
    "\n",
    "-   **Example**: A program which plots the coordinate plane\n",
    "    ![](attachment:./images/coordinatePlane.png)\n",
    "\n",
    "-   **Program**:"
   ],
   "attachments": {
    "./images/coordinatePlane.png": {
     "image/png": "[encoded data removed]"
    }
   }
  },
  {
   "cell_type": "code",
   "execution_count": null,
   "metadata": {},
   "outputs": [],
   "source": [
    "import CodeWorld\n",
    "\n",
    "main :: IO ()\n",
    "main = drawingOf plane\n",
    "\n",
    "plane :: Picture\n",
    "plane = coordinatePlane"
   ]
  },
  {
   "cell_type": "markdown",
   "metadata": {},
   "source": [
    "-   **Execute** the code in\n",
    "    [CodeWorld](https://code.world/haskell#P0i9McWGHcgIYlVH8NafIig)\n",
    "\n",
    "-   **Comments**:\n",
    "\n",
    "    -   function `coordinatePlane :: Picture` is a picture provided by\n",
    "        `CodeWorld` library.\n",
    "\n",
    "### Plot Some Rectangles\n",
    "\n",
    "-   **Example**: plot a basic rectangle\n",
    "    ![](attachment:./images/rectangle.png)\n",
    "\n",
    "-   **Program**:"
   ],
   "attachments": {
    "./images/rectangle.png": {
     "image/png": "[encoded data removed]"
    }
   }
  },
  {
   "cell_type": "code",
   "execution_count": null,
   "metadata": {},
   "outputs": [],
   "source": [
    "import CodeWorld\n",
    "\n",
    "main :: IO ()\n",
    "main = drawingOf rect\n",
    "\n",
    "rect :: Picture\n",
    "rect = rectangle 6 3"
   ]
  },
  {
   "cell_type": "markdown",
   "metadata": {},
   "source": [
    "-   **Execute** the code in\n",
    "    [CodeWorld](https://code.world/haskell#PwlyYoJ_zFPuXLxIJlobSig)\n",
    "\n",
    "-   **Comments**:\n",
    "\n",
    "    -   function `rectangle :: Double -> Double -> Picture` takes two\n",
    "        `Double`s (base and height) and produces a `Picture`\n",
    "\n",
    "-   **Example**: modify previous example to produce a thicker rectangle\n",
    "    ![](attachment:./images/thickrectangle.png)\n",
    "\n",
    "-   **Program**:"
   ],
   "attachments": {
    "./images/thickrectangle.png": {
     "image/png": "[encoded data removed]"
    }
   }
  },
  {
   "cell_type": "code",
   "execution_count": null,
   "metadata": {},
   "outputs": [],
   "source": [
    "import CodeWorld\n",
    "\n",
    "main :: IO ()\n",
    "main = drawingOf rect\n",
    "\n",
    "rect :: Picture\n",
    "rect = thickRectangle 0.5 6 3"
   ]
  },
  {
   "cell_type": "markdown",
   "metadata": {},
   "source": [
    "-   **Execute** the code in\n",
    "    [CodeWorld](https://code.world/haskell#PeXWSobEbKkcq6DYN0SxEsg)\n",
    "\n",
    "-   **Comments**:\n",
    "\n",
    "    -   function\n",
    "        `thickRectangle :: Double -> Double -> Double -> Picture` takes\n",
    "        three `Double`s (thickness, base and height) and produces a\n",
    "        `Picture`\n",
    "\n",
    "-   **Example**: modify previous example to produce a solid rectangle\n",
    "    ![](attachment:./images/solidRectangle.png)\n",
    "\n",
    "-   **Program**:"
   ],
   "attachments": {
    "./images/solidRectangle.png": {
     "image/png": "[encoded data removed]"
    }
   }
  },
  {
   "cell_type": "code",
   "execution_count": null,
   "metadata": {},
   "outputs": [],
   "source": [
    "import CodeWorld\n",
    "\n",
    "main :: IO ()\n",
    "main = drawingOf rect\n",
    "\n",
    "rect :: Picture\n",
    "rect = solidRectangle 6 3"
   ]
  },
  {
   "cell_type": "markdown",
   "metadata": {},
   "source": [
    "-   **Execute** the code in\n",
    "    [CodeWorld](https://code.world/haskell#PqM_KvRjg_AJJgTjxo0nJ6A)\n",
    "\n",
    "-   **Comments**:\n",
    "\n",
    "    -   function `solidRectangle :: Double -> Double -> Picture` takes\n",
    "        two `Double`s (base and height) and produces a `Picture`\n",
    "\n",
    "### Plot Paths\n",
    "\n",
    "-   **Example**: A program which draws a path passing through points\n",
    "    (-3,3), (3,3), (-3,-3) and (3,-3)\n",
    "    ![](attachment:./images/openPath.png)\n",
    "\n",
    "-   **Program**:"
   ],
   "attachments": {
    "./images/openPath.png": {
     "image/png": "[encoded data removed]"
    }
   }
  },
  {
   "cell_type": "code",
   "execution_count": null,
   "metadata": {},
   "outputs": [],
   "source": [
    "import CodeWorld\n",
    "\n",
    "main :: IO ()\n",
    "main = drawingOf openPath\n",
    "\n",
    "openPath :: Picture\n",
    "openPath = polyline [(-3,3),(3,3),(-3,-3),(3,-3)]"
   ]
  },
  {
   "cell_type": "markdown",
   "metadata": {},
   "source": [
    "-   **Execute** the code in\n",
    "    [CodeWorld](https://code.world/haskell#P1OkzsDM_YkB3PG6NQ879oQ)\n",
    "\n",
    "-   **Comments**:\n",
    "\n",
    "    -   function `polyline :: [Point] -> Picture` takes a list of points\n",
    "        and returns a picture\n",
    "    -   A point is just a pair of `Double`s. In Haskell you can define a\n",
    "        type synonym with the `type` keyword:\n",
    "        `type Point = (Double, Double)`\n",
    "\n",
    "-   **Example**: A program which draws a closed path passing through\n",
    "    points (-9,-9), (0,9) and (9,-9) forming a rectangle.\n",
    "    ![](attachment:./images/closedPath.png)\n",
    "\n",
    "-   **Program**:"
   ],
   "attachments": {
    "./images/closedPath.png": {
     "image/png": "[encoded data removed]"
    }
   }
  },
  {
   "cell_type": "code",
   "execution_count": null,
   "metadata": {},
   "outputs": [],
   "source": [
    "import CodeWorld\n",
    "\n",
    "main :: IO ()\n",
    "main = drawingOf closedPath\n",
    "\n",
    "closedPath :: Picture\n",
    "closedPath = polygon [(-9,-9),(0,9),(9,-9)]"
   ]
  },
  {
   "cell_type": "markdown",
   "metadata": {},
   "source": [
    "-   **Execute** the code in\n",
    "    [CodeWorld](https://code.world/haskell#PKC0AxSHjLz5TadYtoJ_GPg)\n",
    "\n",
    "-   **Comments**:\n",
    "\n",
    "    -   function `polygon :: [Point] -> Picture` takes a list of points\n",
    "        and returns a picture.\n",
    "    -   The difference between `polygon` and `polyline` is that the\n",
    "        former will produce a closed path, and the later an open one.\n",
    "\n",
    "### Plot Paths"
   ]
  }
 ],
 "nbformat": 4,
 "nbformat_minor": 4,
 "metadata": {
  "kernelspec": {
   "name": "haskell",
   "display_name": "Haskell",
   "language": "haskell"
  },
  "language_info": {
   "name": "haskell",
   "codemirror_mode": "ihaskell",
   "file_extension": ".hs",
   "pygments_lexer": "Haskell",
   "version": "8.10.7"
  }
 }
}
