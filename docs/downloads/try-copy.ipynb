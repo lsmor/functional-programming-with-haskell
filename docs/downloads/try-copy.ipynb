{
 "cells": [
  {
   "cell_type": "markdown",
   "metadata": {},
   "source": [
    "# This is a header"
   ],
   "id": "715e1200-bb57-432c-b22a-fe93ba2ebb68"
  },
  {
   "cell_type": "code",
   "execution_count": null,
   "metadata": {},
   "outputs": [],
   "source": [
    "haskell :: Int\n",
    "haskell = 42"
   ],
   "id": "c5513cb0-a24e-4e66-9b8f-897f44aea5bd"
  },
  {
   "cell_type": "markdown",
   "metadata": {},
   "source": [
    "This is a list\n",
    "\n",
    "-   object 1\n",
    "-   object 2\n",
    "\n",
    "This is a `some` markdown *syntax*\n",
    "\n",
    "## Headers do not work"
   ],
   "id": "3b753d33-2eb3-4952-bcdc-081c565c48f2"
  },
  {
   "cell_type": "code",
   "execution_count": null,
   "metadata": {},
   "outputs": [],
   "source": [
    "some_func :: Int -> Int\n",
    "some_func = (+ 42)"
   ],
   "id": "4729e31f-e692-4580-97d0-c299e91772e2"
  }
 ],
 "nbformat": 4,
 "nbformat_minor": 5,
 "metadata": {}
}
